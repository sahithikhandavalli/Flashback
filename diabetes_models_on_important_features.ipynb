{
  "nbformat": 4,
  "nbformat_minor": 0,
  "metadata": {
    "colab": {
      "name": "diabetes_models_on_important_features.ipynb",
      "provenance": [],
      "collapsed_sections": [
        "FguFhz11wj45",
        "IfZz9Yzuq0Ch",
        "jGID_-6mGZcL"
      ],
      "include_colab_link": true
    },
    "kernelspec": {
      "name": "python3",
      "display_name": "Python 3"
    },
    "language_info": {
      "name": "python"
    },
    "accelerator": "TPU"
  },
  "cells": [
    {
      "cell_type": "markdown",
      "metadata": {
        "id": "view-in-github",
        "colab_type": "text"
      },
      "source": [
        "<a href=\"https://colab.research.google.com/github/sahithikhandavalli/Flashback/blob/master/diabetes_models_on_important_features.ipynb\" target=\"_parent\"><img src=\"https://colab.research.google.com/assets/colab-badge.svg\" alt=\"Open In Colab\"/></a>"
      ]
    },
    {
      "cell_type": "code",
      "metadata": {
        "id": "Qzv4fwuZWhGz",
        "colab": {
          "base_uri": "https://localhost:8080/"
        },
        "outputId": "e420197a-fd3e-474e-a1ed-3478a8a94dca"
      },
      "source": [
        "import sqlite3\n",
        "import pickle\n",
        "import pandas as pd\n",
        "import seaborn as sns\n",
        "import numpy as np\n",
        "import matplotlib.pyplot as plt\n",
        "from sklearn.ensemble import RandomForestClassifier\n",
        "from sklearn.model_selection import train_test_split, GridSearchCV , RandomizedSearchCV, RepeatedStratifiedKFold, cross_val_score\n",
        "from sklearn.preprocessing import LabelEncoder, LabelBinarizer, StandardScaler\n",
        "from fancyimpute import IterativeImputer\n",
        "from sklearn.impute import KNNImputer\n",
        "from sklearn.decomposition import PCA\n",
        "from xgboost.sklearn import XGBClassifier\n",
        "from sklearn.metrics import roc_auc_score, classification_report\n",
        "from sklearn.linear_model import LogisticRegression\n",
        "from sklearn.pipeline import Pipeline\n",
        "from matplotlib import pyplot\n",
        "from sklearn.svm import SVC\n",
        "from sklearn.pipeline import make_pipeline\n",
        "from sklearn.metrics import accuracy_score, confusion_matrix\n",
        "import lightgbm as lgb\n",
        "import xgboost as xgb\n",
        "from sklearn.naive_bayes import MultinomialNB\n",
        "from sklearn.preprocessing import MinMaxScaler\n",
        "from keras.models import Sequential\n",
        "from keras.layers import Dense\n",
        "import warnings\n",
        "warnings.filterwarnings(\"ignore\")"
      ],
      "execution_count": 1,
      "outputs": [
        {
          "output_type": "stream",
          "text": [
            "/usr/local/lib/python3.7/dist-packages/sklearn/externals/six.py:31: FutureWarning: The module is deprecated in version 0.21 and will be removed in version 0.23 since we've dropped support for Python 2.7. Please rely on the official version of six (https://pypi.org/project/six/).\n",
            "  \"(https://pypi.org/project/six/).\", FutureWarning)\n"
          ],
          "name": "stderr"
        }
      ]
    },
    {
      "cell_type": "code",
      "metadata": {
        "id": "nCyuyKjTXUPd",
        "colab": {
          "base_uri": "https://localhost:8080/"
        },
        "outputId": "1a6b60f7-b94e-4b65-ddf9-5911b3186fbf"
      },
      "source": [
        "from google.colab import drive\n",
        "drive.mount('/content/drive', force_remount=True)"
      ],
      "execution_count": 2,
      "outputs": [
        {
          "output_type": "stream",
          "text": [
            "Mounted at /content/drive\n"
          ],
          "name": "stdout"
        }
      ]
    },
    {
      "cell_type": "code",
      "metadata": {
        "id": "dI2iRXDFXV7N",
        "colab": {
          "base_uri": "https://localhost:8080/"
        },
        "outputId": "ed533c51-e894-4bd6-bbd4-4b3456b37a73"
      },
      "source": [
        "cd '/content/drive/Shareddrives/CMPE-255_Project/widsdatathon2021'"
      ],
      "execution_count": 3,
      "outputs": [
        {
          "output_type": "stream",
          "text": [
            "/content/drive/Shareddrives/CMPE-255_Project/widsdatathon2021\n"
          ],
          "name": "stdout"
        }
      ]
    },
    {
      "cell_type": "code",
      "metadata": {
        "id": "iLyBD0lZW3N_"
      },
      "source": [
        "#Load all pickled data\n",
        "KNN_imputed_trainX = pickle.load(open(\"KNN_imputed_trainX_70.pkl\", \"rb\"))\n",
        "KNN_imputed_testX_df = pickle.load(open(\"KNN_imputed_testX_df_70.pkl\", \"rb\"))\n",
        "train_y = pickle.load(open(\"diabetes_train_y.pkl\", \"rb\"))\n",
        "test_y = pickle.load(open(\"diabetes_test_y.pkl\", \"rb\"))\n",
        "\n",
        "trainX_imp_features = pickle.load(open(\"train_X_after_BE.pkl\", \"rb\"))\n",
        "testX_imp_features  = pickle.load(open(\"test_X_after_BE.pkl\", \"rb\"))\n",
        "\n",
        "pca_95per_train = pickle.load(open(\"pca_95per_train_70.pkl\", \"rb\"))\n",
        "pca_97per_train = pickle.load(open(\"pca_97per_train_70.pkl\", \"rb\"))\n",
        "pca_99per_train = pickle.load(open(\"pca_99per_train_70.pkl\", \"rb\"))\n",
        "\n",
        "pca_95per_test = pickle.load(open(\"pca_95per_test_70.pkl\", \"rb\"))\n",
        "pca_97per_test = pickle.load(open(\"pca_97per_test_70.pkl\", \"rb\"))\n",
        "pca_99per_test = pickle.load(open(\"pca_99per_test_70.pkl\", \"rb\"))"
      ],
      "execution_count": 4,
      "outputs": []
    },
    {
      "cell_type": "code",
      "metadata": {
        "id": "usJ2UgxzbCyW"
      },
      "source": [
        "#standardize data\n",
        "scaler = StandardScaler()\n",
        "scaled_df = scaler.fit_transform(KNN_imputed_trainX)\n",
        "scaled_test_df = scaler.fit_transform(KNN_imputed_testX_df)"
      ],
      "execution_count": 5,
      "outputs": []
    },
    {
      "cell_type": "markdown",
      "metadata": {
        "id": "FguFhz11wj45"
      },
      "source": [
        "# Random Forest Classifier"
      ]
    },
    {
      "cell_type": "code",
      "metadata": {
        "id": "Jhf4wf31xPr_",
        "colab": {
          "base_uri": "https://localhost:8080/"
        },
        "outputId": "2ef798fe-8eb9-442c-f8af-fc48e983fb7b"
      },
      "source": [
        "from sklearn.ensemble import RandomForestClassifier\n",
        "import time\n",
        "from sklearn.metrics import accuracy_score\n",
        "RF_Cl=RandomForestClassifier(n_estimators=200)\n",
        "start = time.time()\n",
        "RF_Cl.fit(scaled_df,train_y) #training\n",
        "end = time.time()\n",
        "print(\"Time taken to train data with RFC in seconds :\",end-start)"
      ],
      "execution_count": 6,
      "outputs": [
        {
          "output_type": "stream",
          "text": [
            "Time taken to train data with RFC in seconds : 198.8203821182251\n"
          ],
          "name": "stdout"
        }
      ]
    },
    {
      "cell_type": "code",
      "metadata": {
        "id": "lZBxnvb2z_f9",
        "colab": {
          "base_uri": "https://localhost:8080/"
        },
        "outputId": "66180698-2996-4d3a-c168-052121193f5d"
      },
      "source": [
        "RF_Cl.get_params"
      ],
      "execution_count": 7,
      "outputs": [
        {
          "output_type": "execute_result",
          "data": {
            "text/plain": [
              "<bound method BaseEstimator.get_params of RandomForestClassifier(bootstrap=True, ccp_alpha=0.0, class_weight=None,\n",
              "                       criterion='gini', max_depth=None, max_features='auto',\n",
              "                       max_leaf_nodes=None, max_samples=None,\n",
              "                       min_impurity_decrease=0.0, min_impurity_split=None,\n",
              "                       min_samples_leaf=1, min_samples_split=2,\n",
              "                       min_weight_fraction_leaf=0.0, n_estimators=200,\n",
              "                       n_jobs=None, oob_score=False, random_state=None,\n",
              "                       verbose=0, warm_start=False)>"
            ]
          },
          "metadata": {
            "tags": []
          },
          "execution_count": 7
        }
      ]
    },
    {
      "cell_type": "code",
      "metadata": {
        "id": "V_1acbIOyKhT"
      },
      "source": [
        "y_pred = RF_Cl.predict(scaled_test_df) #predicting on the test set"
      ],
      "execution_count": 8,
      "outputs": []
    },
    {
      "cell_type": "code",
      "metadata": {
        "id": "j4Q09iEvypEE",
        "colab": {
          "base_uri": "https://localhost:8080/"
        },
        "outputId": "8306d037-0482-4e9e-eb04-db2e7850708a"
      },
      "source": [
        "from sklearn import metrics\n",
        "rfc_test_score = metrics.accuracy_score(test_y, y_pred)\n",
        "print(\"Accuracy of RFC model:\",rfc_test_score)"
      ],
      "execution_count": 9,
      "outputs": [
        {
          "output_type": "stream",
          "text": [
            "Accuracy of RFC model: 0.7707052858020897\n"
          ],
          "name": "stdout"
        }
      ]
    },
    {
      "cell_type": "code",
      "metadata": {
        "colab": {
          "base_uri": "https://localhost:8080/",
          "height": 283
        },
        "id": "QRqwiksb9q6I",
        "outputId": "e076055d-1f81-4c2c-e18d-8dc22b98c0f1"
      },
      "source": [
        "sns.countplot(y_pred)"
      ],
      "execution_count": 10,
      "outputs": [
        {
          "output_type": "execute_result",
          "data": {
            "text/plain": [
              "<matplotlib.axes._subplots.AxesSubplot at 0x7f791f259690>"
            ]
          },
          "metadata": {
            "tags": []
          },
          "execution_count": 10
        },
        {
          "output_type": "display_data",
          "data": {
            "image/png": "[encoded data removed]",
            "text/plain": [
              "<Figure size 432x288 with 1 Axes>"
            ]
          },
          "metadata": {
            "tags": [],
            "needs_background": "light"
          }
        }
      ]
    },
    {
      "cell_type": "code",
      "metadata": {
        "colab": {
          "base_uri": "https://localhost:8080/",
          "height": 309
        },
        "id": "Qns93Wf7-eSc",
        "outputId": "e54c9596-d9a5-4a6d-9b5c-e49ec1923ee0"
      },
      "source": [
        "#show confusion matrix\n",
        "cm = confusion_matrix(test_y, y_pred)\n",
        "plt.figure(figsize=(5,5))\n",
        "sns.heatmap(cm, annot=True, fmt=\".3f\", linewidths=.5, square = True, cmap = 'Blues_r');\n",
        "plt.ylabel('Actual label');\n",
        "plt.xlabel('Predicted label');\n",
        "all_sample_title = 'Accuracy Score: {0:.4f}'.format(rfc_test_score)\n",
        "plt.title(all_sample_title, size = 15);"
      ],
      "execution_count": 11,
      "outputs": [
        {
          "output_type": "display_data",
          "data": {
            "image/png": "[encoded data removed]",
            "text/plain": [
              "<Figure size 360x360 with 2 Axes>"
            ]
          },
          "metadata": {
            "tags": [],
            "needs_background": "light"
          }
        }
      ]
    },
    {
      "cell_type": "code",
      "metadata": {
        "id": "Zxc3ANWd_klR",
        "outputId": "7b1c6d31-426a-43d1-87b2-ec7b317252db",
        "colab": {
          "base_uri": "https://localhost:8080/"
        }
      },
      "source": [
        "print(classification_report(test_y, y_pred))"
      ],
      "execution_count": 17,
      "outputs": [
        {
          "output_type": "stream",
          "text": [
            "              precision    recall  f1-score   support\n",
            "\n",
            "           0       0.79      0.96      0.87     20388\n",
            "           1       0.36      0.08      0.13      5644\n",
            "\n",
            "    accuracy                           0.77     26032\n",
            "   macro avg       0.58      0.52      0.50     26032\n",
            "weighted avg       0.70      0.77      0.71     26032\n",
            "\n"
          ],
          "name": "stdout"
        }
      ]
    },
    {
      "cell_type": "markdown",
      "metadata": {
        "id": "IfZz9Yzuq0Ch"
      },
      "source": [
        "# XGB"
      ]
    },
    {
      "cell_type": "code",
      "metadata": {
        "id": "0QnCNtUnraxy"
      },
      "source": [
        "xg_cl = xgb.XGBClassifier(learning_rate = 0.1,max_depth = 5, alpha = 10, n_estimators = 100)\n",
        "xg_cl.fit(scaled_df,train_y)\n",
        "preds = xg_cl.predict(scaled_test_df)"
      ],
      "execution_count": 12,
      "outputs": []
    },
    {
      "cell_type": "code",
      "metadata": {
        "colab": {
          "base_uri": "https://localhost:8080/",
          "height": 283
        },
        "id": "NsmvkoIs1VGf",
        "outputId": "4f4dab40-2241-4396-b4cb-b5b855dc5e35"
      },
      "source": [
        "sns.countplot(preds)"
      ],
      "execution_count": 13,
      "outputs": [
        {
          "output_type": "execute_result",
          "data": {
            "text/plain": [
              "<matplotlib.axes._subplots.AxesSubplot at 0x7f7916c95d50>"
            ]
          },
          "metadata": {
            "tags": []
          },
          "execution_count": 13
        },
        {
          "output_type": "display_data",
          "data": {
            "image/png": "[encoded data removed]",
            "text/plain": [
              "<Figure size 432x288 with 1 Axes>"
            ]
          },
          "metadata": {
            "tags": [],
            "needs_background": "light"
          }
        }
      ]
    },
    {
      "cell_type": "code",
      "metadata": {
        "id": "y_aNK7kr0VjV",
        "colab": {
          "base_uri": "https://localhost:8080/"
        },
        "outputId": "138398ea-10bc-4f0b-832c-f1bd28a5ce4a"
      },
      "source": [
        "from sklearn import metrics\n",
        "xgb_accuracy = metrics.accuracy_score(test_y, preds)\n",
        "print(\"Accuracy of XGB model:\",xgb_accuracy)"
      ],
      "execution_count": 14,
      "outputs": [
        {
          "output_type": "stream",
          "text": [
            "Accuracy of XGB model: 0.7575676090964967\n"
          ],
          "name": "stdout"
        }
      ]
    },
    {
      "cell_type": "code",
      "metadata": {
        "colab": {
          "base_uri": "https://localhost:8080/",
          "height": 309
        },
        "id": "5TAXg-181s7W",
        "outputId": "a4eff4d2-fadf-49f6-8f7f-5d49e91dfda0"
      },
      "source": [
        "#show confusion matrix\n",
        "cm = confusion_matrix(test_y, preds)\n",
        "plt.figure(figsize=(5,5))\n",
        "sns.heatmap(cm, annot=True, fmt=\".3f\", linewidths=.5, square = True, cmap = 'Blues_r');\n",
        "plt.ylabel('Actual label');\n",
        "plt.xlabel('Predicted label');\n",
        "all_sample_title = 'Accuracy Score: {0:.4f}'.format(xgb_accuracy)\n",
        "plt.title(all_sample_title, size = 15);"
      ],
      "execution_count": 15,
      "outputs": [
        {
          "output_type": "display_data",
          "data": {
            "image/png": "[encoded data removed]",
            "text/plain": [
              "<Figure size 360x360 with 2 Axes>"
            ]
          },
          "metadata": {
            "tags": [],
            "needs_background": "light"
          }
        }
      ]
    },
    {
      "cell_type": "code",
      "metadata": {
        "id": "7UpWGEBC_cBb",
        "outputId": "80e26c66-5982-4fbd-ca50-64722b9d9d01",
        "colab": {
          "base_uri": "https://localhost:8080/"
        }
      },
      "source": [
        "print(classification_report(test_y, preds))"
      ],
      "execution_count": 16,
      "outputs": [
        {
          "output_type": "stream",
          "text": [
            "              precision    recall  f1-score   support\n",
            "\n",
            "           0       0.79      0.94      0.86     20388\n",
            "           1       0.32      0.10      0.16      5644\n",
            "\n",
            "    accuracy                           0.76     26032\n",
            "   macro avg       0.56      0.52      0.51     26032\n",
            "weighted avg       0.69      0.76      0.71     26032\n",
            "\n"
          ],
          "name": "stdout"
        }
      ]
    },
    {
      "cell_type": "markdown",
      "metadata": {
        "id": "_JaYxeHYKGup"
      },
      "source": [
        "# Light GBM"
      ]
    },
    {
      "cell_type": "code",
      "metadata": {
        "colab": {
          "base_uri": "https://localhost:8080/"
        },
        "id": "m9Cf3iL6KFUa",
        "outputId": "425bd500-48a8-49cc-8f0b-74766e51d997"
      },
      "source": [
        "clf = lgb.LGBMClassifier(n_estimators=100)\n",
        "%time clf.fit(scaled_df, train_y)"
      ],
      "execution_count": null,
      "outputs": [
        {
          "output_type": "stream",
          "text": [
            "CPU times: user 13.8 s, sys: 264 ms, total: 14.1 s\n",
            "Wall time: 14.1 s\n"
          ],
          "name": "stdout"
        },
        {
          "output_type": "execute_result",
          "data": {
            "text/plain": [
              "LGBMClassifier(boosting_type='gbdt', class_weight=None, colsample_bytree=1.0,\n",
              "               importance_type='split', learning_rate=0.1, max_depth=-1,\n",
              "               min_child_samples=20, min_child_weight=0.001, min_split_gain=0.0,\n",
              "               n_estimators=100, n_jobs=-1, num_leaves=31, objective=None,\n",
              "               random_state=None, reg_alpha=0.0, reg_lambda=0.0, silent=True,\n",
              "               subsample=1.0, subsample_for_bin=200000, subsample_freq=0)"
            ]
          },
          "metadata": {
            "tags": []
          },
          "execution_count": 23
        }
      ]
    },
    {
      "cell_type": "code",
      "metadata": {
        "id": "7rCIb3LAL88Q"
      },
      "source": [
        "# predict the results\n",
        "lgb_y_pred=clf.predict(scaled_test_df)"
      ],
      "execution_count": null,
      "outputs": []
    },
    {
      "cell_type": "code",
      "metadata": {
        "colab": {
          "base_uri": "https://localhost:8080/"
        },
        "id": "Jb1B0R9FMJba",
        "outputId": "0d1fbcf6-9287-4de0-bee9-b8fc556bd6e3"
      },
      "source": [
        "lgb_accuracy=accuracy_score(lgb_y_pred, test_y)\n",
        "print('LightGBM Model accuracy score: {0:0.4f}'.format(lgb_accuracy))"
      ],
      "execution_count": null,
      "outputs": [
        {
          "output_type": "stream",
          "text": [
            "LightGBM Model accuracy score: 0.7330\n"
          ],
          "name": "stdout"
        }
      ]
    },
    {
      "cell_type": "code",
      "metadata": {
        "colab": {
          "base_uri": "https://localhost:8080/",
          "height": 282
        },
        "id": "ebxOSWC65KHU",
        "outputId": "b8c47d86-3190-4ea7-fcdd-753ee5bab251"
      },
      "source": [
        "sns.countplot(lgb_y_pred)"
      ],
      "execution_count": null,
      "outputs": [
        {
          "output_type": "execute_result",
          "data": {
            "text/plain": [
              "<matplotlib.axes._subplots.AxesSubplot at 0x7f790901f110>"
            ]
          },
          "metadata": {
            "tags": []
          },
          "execution_count": 26
        },
        {
          "output_type": "display_data",
          "data": {
            "image/png": "[encoded data removed]",
            "text/plain": [
              "<Figure size 432x288 with 1 Axes>"
            ]
          },
          "metadata": {
            "tags": [],
            "needs_background": "light"
          }
        }
      ]
    },
    {
      "cell_type": "code",
      "metadata": {
        "colab": {
          "base_uri": "https://localhost:8080/",
          "height": 310
        },
        "id": "IQELyrzS5RMi",
        "outputId": "6145b9a8-1d28-4abc-ae31-506bad63777b"
      },
      "source": [
        "#show confusion matrix\n",
        "cm = confusion_matrix(test_y, lgb_y_pred)\n",
        "plt.figure(figsize=(5,5))\n",
        "sns.heatmap(cm, annot=True, fmt=\".3f\", linewidths=.5, square = True, cmap = 'Blues_r');\n",
        "plt.ylabel('Actual label');\n",
        "plt.xlabel('Predicted label');\n",
        "all_sample_title = 'Accuracy Score: {0:.4f}'.format(lgb_accuracy)\n",
        "plt.title(all_sample_title, size = 15);"
      ],
      "execution_count": null,
      "outputs": [
        {
          "output_type": "display_data",
          "data": {
            "image/png": "[encoded data removed]",
            "text/plain": [
              "<Figure size 360x360 with 2 Axes>"
            ]
          },
          "metadata": {
            "tags": [],
            "needs_background": "light"
          }
        }
      ]
    },
    {
      "cell_type": "code",
      "metadata": {
        "colab": {
          "base_uri": "https://localhost:8080/"
        },
        "id": "1XLYQCMS-_ud",
        "outputId": "0546d4a8-cd39-453d-e15a-9e1327412b9c"
      },
      "source": [
        "print(classification_report(test_y, lgb_y_pred))"
      ],
      "execution_count": null,
      "outputs": [
        {
          "output_type": "stream",
          "text": [
            "              precision    recall  f1-score   support\n",
            "\n",
            "           0       0.79      0.89      0.84     20388\n",
            "           1       0.29      0.15      0.20      5644\n",
            "\n",
            "    accuracy                           0.73     26032\n",
            "   macro avg       0.54      0.52      0.52     26032\n",
            "weighted avg       0.68      0.73      0.70     26032\n",
            "\n"
          ],
          "name": "stdout"
        }
      ]
    },
    {
      "cell_type": "markdown",
      "metadata": {
        "id": "xfOLSnoD1m0w"
      },
      "source": [
        "### LGBM on important features"
      ]
    },
    {
      "cell_type": "code",
      "metadata": {
        "colab": {
          "base_uri": "https://localhost:8080/"
        },
        "id": "xLnnKzi61qfm",
        "outputId": "8cbbf7af-9def-4f9e-bf62-1f5f5dc06cde"
      },
      "source": [
        "lgbm_clf_imp = lgb.LGBMClassifier(n_estimators=100)\n",
        "%time lgbm_clf_imp.fit(trainX_imp_features, train_y)"
      ],
      "execution_count": null,
      "outputs": [
        {
          "output_type": "stream",
          "text": [
            "CPU times: user 11.4 s, sys: 39.1 ms, total: 11.4 s\n",
            "Wall time: 6.08 s\n"
          ],
          "name": "stdout"
        },
        {
          "output_type": "execute_result",
          "data": {
            "text/plain": [
              "LGBMClassifier(boosting_type='gbdt', class_weight=None, colsample_bytree=1.0,\n",
              "               importance_type='split', learning_rate=0.1, max_depth=-1,\n",
              "               min_child_samples=20, min_child_weight=0.001, min_split_gain=0.0,\n",
              "               n_estimators=100, n_jobs=-1, num_leaves=31, objective=None,\n",
              "               random_state=None, reg_alpha=0.0, reg_lambda=0.0, silent=True,\n",
              "               subsample=1.0, subsample_for_bin=200000, subsample_freq=0)"
            ]
          },
          "metadata": {
            "tags": []
          },
          "execution_count": 9
        }
      ]
    },
    {
      "cell_type": "code",
      "metadata": {
        "id": "XbXRje9A1qfw"
      },
      "source": [
        "# predict the results\n",
        "lgb_y_pred_imp = lgbm_clf_imp.predict(testX_imp_features)"
      ],
      "execution_count": null,
      "outputs": []
    },
    {
      "cell_type": "code",
      "metadata": {
        "colab": {
          "base_uri": "https://localhost:8080/"
        },
        "id": "PBxvUvhT1qfx",
        "outputId": "795faa22-13fa-4da9-b587-472108ae9f86"
      },
      "source": [
        "lgb_accuracy_imp = accuracy_score(test_y, lgb_y_pred_imp)\n",
        "print('LightGBM Model accuracy score: {0:0.4f}'.format(lgb_accuracy_imp))"
      ],
      "execution_count": null,
      "outputs": [
        {
          "output_type": "stream",
          "text": [
            "LightGBM Model accuracy score: 0.8292\n"
          ],
          "name": "stdout"
        }
      ]
    },
    {
      "cell_type": "code",
      "metadata": {
        "colab": {
          "base_uri": "https://localhost:8080/",
          "height": 308
        },
        "id": "IsdbQLXN1qfx",
        "outputId": "e71f8c90-eb43-4ad2-aac1-8d5b1851b974"
      },
      "source": [
        "#show confusion matrix\n",
        "cm = confusion_matrix(test_y, lgb_y_pred_imp)\n",
        "plt.figure(figsize=(5,5))\n",
        "sns.heatmap(cm, annot=True, fmt=\".3f\", linewidths=.5, square = True, cmap = 'Blues_r');\n",
        "plt.ylabel('Actual label');\n",
        "plt.xlabel('Predicted label');\n",
        "all_sample_title = 'Accuracy Score: {0:.4f}'.format(lgb_accuracy_imp)\n",
        "plt.title(all_sample_title, size = 15);"
      ],
      "execution_count": null,
      "outputs": [
        {
          "output_type": "display_data",
          "data": {
            "image/png": "[encoded data removed]",
            "text/plain": [
              "<Figure size 360x360 with 2 Axes>"
            ]
          },
          "metadata": {
            "tags": [],
            "needs_background": "light"
          }
        }
      ]
    },
    {
      "cell_type": "code",
      "metadata": {
        "colab": {
          "base_uri": "https://localhost:8080/",
          "height": 282
        },
        "id": "vGsw7aHf1qfx",
        "outputId": "02184ef4-297b-4edd-9825-c65c86972f0f"
      },
      "source": [
        "sns.countplot(lgb_y_pred_imp)"
      ],
      "execution_count": null,
      "outputs": [
        {
          "output_type": "execute_result",
          "data": {
            "text/plain": [
              "<matplotlib.axes._subplots.AxesSubplot at 0x7f4ac5153610>"
            ]
          },
          "metadata": {
            "tags": []
          },
          "execution_count": 14
        },
        {
          "output_type": "display_data",
          "data": {
            "image/png": "[encoded data removed]",
            "text/plain": [
              "<Figure size 432x288 with 1 Axes>"
            ]
          },
          "metadata": {
            "tags": [],
            "needs_background": "light"
          }
        }
      ]
    },
    {
      "cell_type": "code",
      "metadata": {
        "colab": {
          "base_uri": "https://localhost:8080/"
        },
        "id": "Qa6Orm9P1qfy",
        "outputId": "6984629b-37df-4c44-ada1-7a8e157b31e8"
      },
      "source": [
        "print(classification_report(test_y, lgb_y_pred_imp))"
      ],
      "execution_count": null,
      "outputs": [
        {
          "output_type": "stream",
          "text": [
            "              precision    recall  f1-score   support\n",
            "\n",
            "           0       0.86      0.94      0.90     20388\n",
            "           1       0.66      0.44      0.53      5644\n",
            "\n",
            "    accuracy                           0.83     26032\n",
            "   macro avg       0.76      0.69      0.71     26032\n",
            "weighted avg       0.81      0.83      0.82     26032\n",
            "\n"
          ],
          "name": "stdout"
        }
      ]
    },
    {
      "cell_type": "markdown",
      "metadata": {
        "id": "Y-UvWK9IbscF"
      },
      "source": [
        "# Keras Classifier"
      ]
    },
    {
      "cell_type": "code",
      "metadata": {
        "id": "RPNJ5qVW3t60"
      },
      "source": [
        "def keras_nn(nn_model, train_X, train_y, test_X, test_y, epochs):\n",
        "    # Model output shape\n",
        "    print(\"Model output shape\",nn_model.output_shape)\n",
        "\n",
        "    # Model summary\n",
        "    print(\"Model summary\",nn_model.summary())\n",
        "\n",
        "    # Model config\n",
        "    print(\"Model configuration\",nn_model.get_config())\n",
        "    \n",
        "    # List all weight tensors \n",
        "    print(\"Model weights\",nn_model.get_weights())\n",
        "\n",
        "    nn_model.compile(loss='binary_crossentropy',\n",
        "              optimizer='adam',\n",
        "              metrics=['accuracy'])\n",
        "                   \n",
        "    %time nn_model.fit(train_X, train_y, epochs=epochs, batch_size=1, verbose=1)\n",
        "\n",
        "    return nn_model"
      ],
      "execution_count": null,
      "outputs": []
    },
    {
      "cell_type": "markdown",
      "metadata": {
        "id": "ODyERK8loHlL"
      },
      "source": [
        "### on the entire dataset"
      ]
    },
    {
      "cell_type": "code",
      "metadata": {
        "id": "Xsrw0CfYMUJP",
        "colab": {
          "base_uri": "https://localhost:8080/"
        },
        "outputId": "f33c9991-b6a4-4108-9bb1-79eb464becae"
      },
      "source": [
        "# Initialize the constructor\n",
        "nn_model = Sequential()\n",
        "\n",
        "# Add an input layer \n",
        "nn_model.add(Dense(109, activation='relu', input_dim=109))\n",
        "\n",
        "# Add two hidden layers \n",
        "nn_model.add(Dense(50, activation='relu'))\n",
        "nn_model.add(Dense(20, activation='relu'))\n",
        "\n",
        "# Add an output layer \n",
        "nn_model.add(Dense(1, activation='sigmoid'))\n",
        "\n",
        "nn_model = keras_nn(nn_model, KNN_imputed_trainX, train_y, \n",
        "                                        KNN_imputed_testX_df, test_y, epochs=20)"
      ],
      "execution_count": null,
      "outputs": [
        {
          "output_type": "stream",
          "text": [
            "Model output shape (None, 1)\n",
            "Model: \"sequential_2\"\n",
            "_________________________________________________________________\n",
            "Layer (type)                 Output Shape              Param #   \n",
            "=================================================================\n",
            "dense_7 (Dense)              (None, 109)               11990     \n",
            "_________________________________________________________________\n",
            "dense_8 (Dense)              (None, 50)                5500      \n",
            "_________________________________________________________________\n",
            "dense_9 (Dense)              (None, 20)                1020      \n",
            "_________________________________________________________________\n",
            "dense_10 (Dense)             (None, 1)                 21        \n",
            "=================================================================\n",
            "Total params: 18,531\n",
            "Trainable params: 18,531\n",
            "Non-trainable params: 0\n",
            "_________________________________________________________________\n",
            "Model summary None\n",
            "Model configuration {'name': 'sequential_2', 'layers': [{'class_name': 'InputLayer', 'config': {'batch_input_shape': (None, 109), 'dtype': 'float32', 'sparse': False, 'ragged': False, 'name': 'dense_7_input'}}, {'class_name': 'Dense', 'config': {'name': 'dense_7', 'trainable': True, 'batch_input_shape': (None, 109), 'dtype': 'float32', 'units': 109, 'activation': 'relu', 'use_bias': True, 'kernel_initializer': {'class_name': 'GlorotUniform', 'config': {'seed': None}}, 'bias_initializer': {'class_name': 'Zeros', 'config': {}}, 'kernel_regularizer': None, 'bias_regularizer': None, 'activity_regularizer': None, 'kernel_constraint': None, 'bias_constraint': None}}, {'class_name': 'Dense', 'config': {'name': 'dense_8', 'trainable': True, 'dtype': 'float32', 'units': 50, 'activation': 'relu', 'use_bias': True, 'kernel_initializer': {'class_name': 'GlorotUniform', 'config': {'seed': None}}, 'bias_initializer': {'class_name': 'Zeros', 'config': {}}, 'kernel_regularizer': None, 'bias_regularizer': None, 'activity_regularizer': None, 'kernel_constraint': None, 'bias_constraint': None}}, {'class_name': 'Dense', 'config': {'name': 'dense_9', 'trainable': True, 'dtype': 'float32', 'units': 20, 'activation': 'relu', 'use_bias': True, 'kernel_initializer': {'class_name': 'GlorotUniform', 'config': {'seed': None}}, 'bias_initializer': {'class_name': 'Zeros', 'config': {}}, 'kernel_regularizer': None, 'bias_regularizer': None, 'activity_regularizer': None, 'kernel_constraint': None, 'bias_constraint': None}}, {'class_name': 'Dense', 'config': {'name': 'dense_10', 'trainable': True, 'dtype': 'float32', 'units': 1, 'activation': 'sigmoid', 'use_bias': True, 'kernel_initializer': {'class_name': 'GlorotUniform', 'config': {'seed': None}}, 'bias_initializer': {'class_name': 'Zeros', 'config': {}}, 'kernel_regularizer': None, 'bias_regularizer': None, 'activity_regularizer': None, 'kernel_constraint': None, 'bias_constraint': None}}]}\n",
            "Model weights [array([[ 0.09046185,  0.1033648 ,  0.11221966, ..., -0.15991013,\n",
            "         0.01268306,  0.0812383 ],\n",
            "       [-0.10287867,  0.04670145,  0.03512664, ...,  0.04616348,\n",
            "         0.0143694 , -0.12701146],\n",
            "       [-0.137196  ,  0.08891737, -0.10385485, ..., -0.13788617,\n",
            "         0.03130254,  0.15980405],\n",
            "       ...,\n",
            "       [-0.11753407,  0.01483119,  0.03154679, ...,  0.13725984,\n",
            "        -0.01524109, -0.0561235 ],\n",
            "       [ 0.12525529, -0.03701533, -0.00112866, ...,  0.05844755,\n",
            "         0.12634534,  0.1516133 ],\n",
            "       [-0.11189185,  0.05712476, -0.09804299, ...,  0.13066465,\n",
            "        -0.01336268,  0.0068367 ]], dtype=float32), array([0., 0., 0., 0., 0., 0., 0., 0., 0., 0., 0., 0., 0., 0., 0., 0., 0.,\n",
            "       0., 0., 0., 0., 0., 0., 0., 0., 0., 0., 0., 0., 0., 0., 0., 0., 0.,\n",
            "       0., 0., 0., 0., 0., 0., 0., 0., 0., 0., 0., 0., 0., 0., 0., 0., 0.,\n",
            "       0., 0., 0., 0., 0., 0., 0., 0., 0., 0., 0., 0., 0., 0., 0., 0., 0.,\n",
            "       0., 0., 0., 0., 0., 0., 0., 0., 0., 0., 0., 0., 0., 0., 0., 0., 0.,\n",
            "       0., 0., 0., 0., 0., 0., 0., 0., 0., 0., 0., 0., 0., 0., 0., 0., 0.,\n",
            "       0., 0., 0., 0., 0., 0., 0.], dtype=float32), array([[-0.04316898, -0.05315952,  0.03112206, ..., -0.16389889,\n",
            "         0.04959846,  0.07289711],\n",
            "       [-0.04308672,  0.10125351,  0.1173842 , ...,  0.04056707,\n",
            "        -0.12109065,  0.09706151],\n",
            "       [-0.13691747,  0.1869868 , -0.16550563, ..., -0.11185864,\n",
            "         0.05980292,  0.05826923],\n",
            "       ...,\n",
            "       [-0.0454144 , -0.04649529,  0.13138643, ..., -0.03430989,\n",
            "        -0.0053584 ,  0.08426014],\n",
            "       [-0.0096751 ,  0.16293633,  0.0543066 , ..., -0.11796378,\n",
            "         0.16816792,  0.02585354],\n",
            "       [-0.01895367,  0.06779844, -0.11328211, ..., -0.13869753,\n",
            "        -0.19295222, -0.13140962]], dtype=float32), array([0., 0., 0., 0., 0., 0., 0., 0., 0., 0., 0., 0., 0., 0., 0., 0., 0.,\n",
            "       0., 0., 0., 0., 0., 0., 0., 0., 0., 0., 0., 0., 0., 0., 0., 0., 0.,\n",
            "       0., 0., 0., 0., 0., 0., 0., 0., 0., 0., 0., 0., 0., 0., 0., 0.],\n",
            "      dtype=float32), array([[ 0.29262096,  0.1952807 , -0.00945467,  0.26895636, -0.1365096 ,\n",
            "        -0.21351999, -0.06371586,  0.12772581,  0.19996071,  0.2203936 ,\n",
            "        -0.26715577,  0.06585041,  0.03418243, -0.18252113,  0.0789848 ,\n",
            "         0.20476481,  0.01654574,  0.26220578, -0.20053363,  0.23790103],\n",
            "       [ 0.1513288 ,  0.19254836, -0.2320985 , -0.11791983, -0.0163036 ,\n",
            "        -0.15877232,  0.26009732, -0.22719291, -0.06387773, -0.23608251,\n",
            "         0.11510578, -0.08692768, -0.2567014 , -0.01933327, -0.15330677,\n",
            "        -0.11850226,  0.10701108,  0.13150704,  0.14631122,  0.083938  ],\n",
            "       [-0.04085317, -0.14207935, -0.10821466,  0.11840537, -0.13404217,\n",
            "        -0.09711869, -0.2689935 ,  0.20140392, -0.28335816, -0.08850968,\n",
            "        -0.265019  ,  0.04388818, -0.00236341, -0.13869055, -0.01686829,\n",
            "        -0.23550281,  0.15104827,  0.10272294, -0.24475643, -0.15427639],\n",
            "       [-0.23328862,  0.01007834, -0.19409148, -0.08124198, -0.16301815,\n",
            "         0.13457093,  0.19576868, -0.09913568,  0.15999624,  0.1488435 ,\n",
            "         0.12607953, -0.12941584, -0.27101588,  0.0385662 , -0.03892401,\n",
            "        -0.14283384,  0.00930807,  0.12554798,  0.2751537 ,  0.12920511],\n",
            "       [-0.07176639,  0.28158206,  0.21218961, -0.2509436 , -0.10285401,\n",
            "         0.07473567,  0.06533819,  0.13668808, -0.17653988,  0.03561783,\n",
            "         0.13371179, -0.16177268, -0.11349411, -0.23670053, -0.1662615 ,\n",
            "        -0.10161406,  0.26078779, -0.00813869,  0.07378897,  0.14008826],\n",
            "       [ 0.02588865,  0.12083977, -0.21148008,  0.02198151,  0.26560253,\n",
            "        -0.13711868,  0.22141093,  0.24297667,  0.02455509, -0.22028643,\n",
            "        -0.2753524 ,  0.10157338,  0.09207663,  0.17352012, -0.15319152,\n",
            "         0.06287971,  0.10520396,  0.03280491,  0.0658583 ,  0.217884  ],\n",
            "       [-0.1957689 ,  0.14029989,  0.23430353, -0.20791134,  0.24180025,\n",
            "        -0.18099618,  0.21038407,  0.05658504,  0.23468411,  0.23928148,\n",
            "        -0.24954924,  0.26235938,  0.09352627,  0.03333357,  0.1609107 ,\n",
            "         0.24079359, -0.04382724,  0.04810643,  0.2798367 ,  0.28139687],\n",
            "       [ 0.25778073,  0.25293225, -0.12781535,  0.1814704 ,  0.2877522 ,\n",
            "         0.01754454, -0.08431648,  0.06805754, -0.23754667,  0.20524463,\n",
            "        -0.11859468, -0.17054448, -0.08291639,  0.03703329, -0.18562898,\n",
            "        -0.11518046, -0.2266446 ,  0.21765918, -0.11885127, -0.08607268],\n",
            "       [ 0.08037198,  0.19661936,  0.05865461,  0.08616009, -0.02906275,\n",
            "         0.03847224, -0.0018163 ,  0.01008433, -0.07904512,  0.23120749,\n",
            "         0.25461   , -0.24504848,  0.0752705 , -0.28618068, -0.24590433,\n",
            "        -0.2200276 , -0.25162053,  0.10684556, -0.01417145, -0.28141615],\n",
            "       [ 0.11045077,  0.23026788, -0.17249516,  0.13212541,  0.15993956,\n",
            "         0.15976653,  0.25765622, -0.01880413, -0.18184286, -0.00839353,\n",
            "         0.25062215,  0.13370731,  0.12063751,  0.23316419,  0.10140648,\n",
            "         0.27447164, -0.2784231 , -0.18589032, -0.10508014, -0.23572303],\n",
            "       [ 0.26555532,  0.07030976, -0.20094916,  0.18170977, -0.2567579 ,\n",
            "         0.23319519, -0.2824633 ,  0.05334485, -0.21870422, -0.08445963,\n",
            "         0.07775742,  0.10902137, -0.13979572, -0.18609568, -0.10664405,\n",
            "        -0.01743704, -0.22323617,  0.09173781, -0.21602657, -0.22005126],\n",
            "       [-0.22920704,  0.14843705,  0.14064506,  0.21723741, -0.16397081,\n",
            "         0.19590333,  0.22356647, -0.2921952 ,  0.094497  ,  0.15087244,\n",
            "         0.02330723, -0.0808804 , -0.18845952, -0.28003693,  0.0106639 ,\n",
            "         0.12833175, -0.2276094 , -0.183814  ,  0.0721623 , -0.10799827],\n",
            "       [ 0.09465748,  0.08706233,  0.22763616, -0.01009354, -0.08627777,\n",
            "        -0.04482944,  0.27722418, -0.18665598, -0.21033227, -0.01570562,\n",
            "        -0.2898491 ,  0.04288268, -0.08064015, -0.02136689, -0.16069041,\n",
            "         0.02422619,  0.07925481, -0.02843106,  0.15031311, -0.14842686],\n",
            "       [ 0.05041087, -0.03391621, -0.03709549, -0.27310568,  0.17191139,\n",
            "        -0.04250756,  0.10623235,  0.26173252,  0.21459484, -0.08232524,\n",
            "        -0.03754592, -0.06115511,  0.05174682, -0.06940296, -0.07175578,\n",
            "         0.0972335 ,  0.18220165, -0.24249373, -0.09905206,  0.00200379],\n",
            "       [ 0.21630663, -0.14412616, -0.21562451,  0.11867285,  0.0652723 ,\n",
            "         0.13720337,  0.16174755, -0.20753615, -0.14403744,  0.08376861,\n",
            "        -0.20001249,  0.13964489, -0.13899468, -0.2732327 ,  0.11973608,\n",
            "        -0.24661526, -0.06754045,  0.28058118, -0.05479854,  0.02848145],\n",
            "       [ 0.16688287,  0.1711477 , -0.00035083,  0.22434074,  0.07368022,\n",
            "        -0.19225276,  0.04598817,  0.16750664, -0.09860581,  0.22801721,\n",
            "        -0.06778957,  0.19659415,  0.23805672,  0.14091402, -0.08741805,\n",
            "        -0.18438679,  0.17369846,  0.02976853, -0.24243692, -0.19716981],\n",
            "       [ 0.14282504,  0.19724393,  0.058144  , -0.03428581, -0.19469163,\n",
            "        -0.0621514 , -0.19337022,  0.00556859,  0.22516215,  0.13184795,\n",
            "        -0.16414979, -0.13635129,  0.00169325,  0.04269099, -0.0637835 ,\n",
            "        -0.04669036, -0.09672885, -0.10842022, -0.0788399 , -0.0938701 ],\n",
            "       [-0.06068549, -0.23801637,  0.07600504, -0.1106786 , -0.2228386 ,\n",
            "         0.11035472,  0.00150946, -0.21899   , -0.15017393,  0.03640193,\n",
            "        -0.05788428,  0.17311993,  0.22237152,  0.16035083, -0.04141083,\n",
            "        -0.09803058,  0.2502892 , -0.27639437, -0.14809236, -0.28453794],\n",
            "       [ 0.06646591,  0.2644928 ,  0.16561025,  0.14785826, -0.17752416,\n",
            "        -0.14087039, -0.15001003, -0.04632391,  0.28632563,  0.26224732,\n",
            "         0.25966632, -0.09229873,  0.16038418,  0.27047175,  0.11951968,\n",
            "        -0.13009892, -0.23108679,  0.09219834, -0.05866158,  0.10531315],\n",
            "       [-0.1318319 ,  0.18698761, -0.26777464,  0.26105297, -0.17102729,\n",
            "         0.0325802 , -0.03840929,  0.0240384 ,  0.26738054, -0.25265115,\n",
            "        -0.13663915,  0.12076908, -0.00426197, -0.28559217, -0.14027148,\n",
            "        -0.18105766, -0.19698393, -0.24006492, -0.08881806, -0.03375587],\n",
            "       [-0.08897114, -0.06918302, -0.15956339,  0.23648626,  0.09869397,\n",
            "        -0.09530146,  0.09853581, -0.10817194,  0.2504117 ,  0.07142478,\n",
            "        -0.20588854,  0.24478316, -0.19639012,  0.18348306,  0.04366264,\n",
            "         0.13101605, -0.06234474, -0.19781694,  0.04633877,  0.11917144],\n",
            "       [ 0.25346226,  0.22717023,  0.15855691,  0.06815499,  0.10790899,\n",
            "         0.26817667, -0.01845825,  0.21951139,  0.12054223, -0.00102407,\n",
            "         0.05811211, -0.18296948, -0.13192682,  0.11564347,  0.21623284,\n",
            "        -0.01254478, -0.23878628,  0.17762265,  0.2786045 , -0.29114315],\n",
            "       [-0.05819775, -0.14161664,  0.10392269,  0.13905269, -0.00754675,\n",
            "        -0.01275176,  0.22938985, -0.28834474, -0.2099531 ,  0.09158856,\n",
            "         0.15226671,  0.19731033,  0.10434511,  0.19250593, -0.26315248,\n",
            "        -0.24445328, -0.05644782, -0.21881172,  0.2456088 ,  0.04934019],\n",
            "       [ 0.28287816,  0.05423078, -0.12981462, -0.2014495 ,  0.15124518,\n",
            "        -0.11072291,  0.20395413, -0.11002895, -0.27435052,  0.06823057,\n",
            "         0.1871675 , -0.26605868,  0.25568914,  0.25674313,  0.11358836,\n",
            "         0.00409374,  0.14897844, -0.01034644, -0.06413285, -0.12167518],\n",
            "       [ 0.26291704,  0.11890033, -0.0729119 , -0.08621396, -0.0986345 ,\n",
            "        -0.19309765,  0.10048768,  0.1616314 ,  0.25691593,  0.00862131,\n",
            "         0.26442635,  0.16603673, -0.08430587, -0.15178189, -0.16316712,\n",
            "         0.04782856,  0.02097127,  0.19596455, -0.16319   , -0.17606264],\n",
            "       [ 0.2254433 , -0.0177055 ,  0.26620078,  0.23976338, -0.11476193,\n",
            "         0.16016221, -0.25803575,  0.1919286 ,  0.05016637,  0.23533684,\n",
            "        -0.17129853, -0.0540005 , -0.19115981, -0.169593  ,  0.16300336,\n",
            "        -0.14283314, -0.08897413,  0.03254208,  0.15104422, -0.28996003],\n",
            "       [ 0.17157894,  0.10222775, -0.14423093,  0.17024985,  0.142196  ,\n",
            "         0.11766094,  0.0774174 ,  0.01983565, -0.1507798 ,  0.13025716,\n",
            "         0.14868185, -0.09877899, -0.20381433, -0.25125867,  0.04060099,\n",
            "        -0.24147114,  0.12433973, -0.14219962,  0.15938112,  0.18305269],\n",
            "       [-0.27817377,  0.15385365,  0.10317686,  0.22906965, -0.10076694,\n",
            "         0.19993648,  0.22941774, -0.00505462,  0.096035  ,  0.12679458,\n",
            "        -0.08079176, -0.15285963,  0.13732591,  0.21464127,  0.25991637,\n",
            "         0.08570972, -0.04065529, -0.08114238, -0.03514221, -0.02232024],\n",
            "       [-0.07282794, -0.25992018,  0.11799681,  0.03379321, -0.19103186,\n",
            "        -0.27514243, -0.18634522, -0.02564427, -0.07232375,  0.04740375,\n",
            "         0.01422304,  0.0077284 , -0.20829812, -0.0788963 ,  0.12404242,\n",
            "         0.2691539 , -0.06416686, -0.08703811, -0.03100136,  0.26157826],\n",
            "       [-0.15700927, -0.11983073, -0.09326786,  0.09419712,  0.11659354,\n",
            "         0.13020307,  0.24343276,  0.03689209, -0.27197126,  0.19095892,\n",
            "         0.05774075, -0.18393365, -0.15218401, -0.15685669,  0.24738103,\n",
            "        -0.206902  ,  0.00583145, -0.06565279, -0.25873724,  0.22437996],\n",
            "       [-0.255008  , -0.11243369,  0.02742255, -0.10046904,  0.01223883,\n",
            "         0.09339538, -0.27735457,  0.1451563 ,  0.03206611, -0.1752288 ,\n",
            "        -0.2677484 , -0.13458711, -0.2136729 , -0.12592143,  0.16174212,\n",
            "         0.2223357 , -0.24105841, -0.08179425,  0.04336941, -0.23691636],\n",
            "       [ 0.25682926, -0.08911353, -0.04048827, -0.02457339,  0.25853795,\n",
            "         0.04946849,  0.14041102,  0.08481708, -0.13127983,  0.11748776,\n",
            "         0.08896324, -0.0330534 ,  0.08875692,  0.08162799, -0.09703353,\n",
            "        -0.02628738,  0.00444904, -0.12476781, -0.2519814 ,  0.08640277],\n",
            "       [-0.09705712, -0.23701967,  0.10364544,  0.25588024,  0.05168259,\n",
            "        -0.22500168,  0.05624917,  0.07546937,  0.03060362,  0.01676145,\n",
            "         0.2264896 , -0.10271268, -0.10787857, -0.08809505,  0.28005487,\n",
            "        -0.05887567,  0.16589463,  0.18270087,  0.10462844, -0.04467072],\n",
            "       [ 0.18561244, -0.2183777 ,  0.0272648 ,  0.27598786, -0.25757945,\n",
            "        -0.24886405,  0.08130702,  0.10876358,  0.12497658,  0.26780325,\n",
            "         0.16264722,  0.21843302, -0.2324085 , -0.08392614, -0.0201517 ,\n",
            "        -0.13519928,  0.08271807, -0.27289054, -0.20227735,  0.2714936 ],\n",
            "       [-0.25864357, -0.21948378, -0.01398501, -0.20751485, -0.10538454,\n",
            "        -0.10096002, -0.05848101, -0.01355425, -0.05079561, -0.05871952,\n",
            "         0.11158442,  0.12265882, -0.16024221, -0.28933543,  0.07240549,\n",
            "        -0.16207765,  0.24039835,  0.29186428, -0.00331327,  0.13955247],\n",
            "       [-0.28497148,  0.2681325 , -0.13523223, -0.11574893,  0.13044703,\n",
            "        -0.00631684, -0.06482376,  0.11061639, -0.27495703, -0.22488329,\n",
            "         0.20738572,  0.1839723 , -0.21230558, -0.11629297,  0.21472007,\n",
            "         0.06590262,  0.2553519 ,  0.20280227,  0.19902813,  0.22856492],\n",
            "       [-0.22210176,  0.16766578,  0.24399728, -0.26994205,  0.01183909,\n",
            "        -0.19198236,  0.18221435,  0.21420825,  0.23534435, -0.25440696,\n",
            "        -0.2504084 , -0.19299307, -0.20661268, -0.26239794, -0.28232992,\n",
            "        -0.00192431, -0.0670274 , -0.15061493,  0.26844168, -0.22147341],\n",
            "       [ 0.24094397, -0.15424567, -0.26184782, -0.24622282,  0.15412658,\n",
            "         0.24819833, -0.21805494,  0.04113889,  0.28493166,  0.10270548,\n",
            "        -0.11797658, -0.13276982, -0.10768276, -0.02554068, -0.01155248,\n",
            "         0.17663991, -0.2239638 ,  0.09491357, -0.19585761,  0.03075224],\n",
            "       [ 0.06295118,  0.18880057, -0.11545897,  0.22276151, -0.1368096 ,\n",
            "         0.04620796, -0.08446361, -0.18815093, -0.17066836,  0.13249055,\n",
            "         0.0445016 , -0.08289692,  0.08436316, -0.04270846, -0.21713942,\n",
            "        -0.12481381,  0.04921725, -0.07994974, -0.28821322, -0.14329852],\n",
            "       [-0.03533891, -0.22773114, -0.07659918,  0.03123575, -0.2888873 ,\n",
            "         0.2574566 , -0.05557223,  0.17206329,  0.19079006, -0.07144886,\n",
            "        -0.08036186, -0.19952688, -0.21786228, -0.2244303 , -0.00793493,\n",
            "        -0.17408657,  0.15436342,  0.14591363,  0.00265309,  0.09049374],\n",
            "       [ 0.19072255, -0.04399748,  0.229833  , -0.0037221 , -0.16682592,\n",
            "         0.22530586,  0.25137746, -0.05297554, -0.04301426,  0.07066527,\n",
            "        -0.14461553,  0.19998968, -0.02071738,  0.21919298, -0.1874934 ,\n",
            "        -0.24398129,  0.2750935 , -0.18200517, -0.00306389, -0.18547724],\n",
            "       [ 0.1156669 ,  0.12957466, -0.26041862,  0.11688161,  0.03403375,\n",
            "         0.13641214,  0.13611779,  0.18639094, -0.14161643, -0.10828243,\n",
            "         0.1877793 , -0.22746694, -0.23221976,  0.2403261 ,  0.17454454,\n",
            "         0.0228855 ,  0.06019953, -0.18197075,  0.18247464,  0.1625135 ],\n",
            "       [-0.2074722 ,  0.19554314, -0.21705705,  0.2821737 , -0.28787252,\n",
            "        -0.25522888,  0.1350705 , -0.274339  ,  0.0561434 ,  0.27426636,\n",
            "         0.10476074,  0.00872159,  0.01653108, -0.04582132, -0.23365745,\n",
            "        -0.21236134, -0.2671395 ,  0.0209367 ,  0.21841598,  0.24282354],\n",
            "       [ 0.27050102, -0.0138537 ,  0.2461474 , -0.17720029, -0.07760684,\n",
            "         0.02292076, -0.13195488, -0.16409995, -0.27177915,  0.19891715,\n",
            "         0.1947819 , -0.07946441,  0.07375923, -0.15624402,  0.09336236,\n",
            "        -0.03632584,  0.0546872 ,  0.21137965,  0.08310562, -0.16324516],\n",
            "       [-0.12651181, -0.00492054, -0.15300502, -0.07821132, -0.27227893,\n",
            "        -0.10673283, -0.15063608, -0.16846082, -0.02975708,  0.13570121,\n",
            "         0.15132481, -0.18615949, -0.19927901,  0.14817193, -0.07388522,\n",
            "         0.20153877,  0.01438615,  0.08872816,  0.15234122,  0.2129845 ],\n",
            "       [-0.08960529,  0.10229805,  0.05592683,  0.07288104, -0.09943135,\n",
            "        -0.01301512,  0.23729306,  0.03654838,  0.11426193, -0.25533617,\n",
            "         0.0356577 ,  0.11455363,  0.24804175, -0.23350954,  0.27558613,\n",
            "        -0.2793273 ,  0.28846544, -0.28948167, -0.04153585,  0.04086855],\n",
            "       [ 0.1726178 ,  0.2879477 ,  0.209072  , -0.13326842,  0.05548805,\n",
            "        -0.09310815, -0.23093525, -0.28350985,  0.05518755,  0.18856883,\n",
            "         0.14847139, -0.11030202, -0.13624442,  0.11449793,  0.01397237,\n",
            "        -0.2090172 ,  0.20222577, -0.27383956, -0.22580573,  0.1014924 ],\n",
            "       [-0.27231908,  0.26209307, -0.09628309,  0.18452403, -0.14925659,\n",
            "         0.04889002, -0.07065737, -0.2386746 ,  0.0440841 ,  0.00042704,\n",
            "        -0.21251985,  0.0693925 , -0.10633266,  0.04880983,  0.02866217,\n",
            "        -0.0777692 , -0.17713174, -0.09906168,  0.19259313, -0.27135497],\n",
            "       [ 0.11303601,  0.06036013,  0.11792597,  0.2184279 , -0.05843179,\n",
            "        -0.1284165 , -0.03972051,  0.06285563, -0.00150695, -0.2574892 ,\n",
            "         0.0451647 ,  0.08185053,  0.24435675,  0.13291904, -0.05985701,\n",
            "         0.25372225,  0.20494887, -0.06701818,  0.11457822,  0.21912271],\n",
            "       [-0.20661253,  0.05635694, -0.17381608,  0.12113199,  0.11494082,\n",
            "        -0.13641809, -0.02623585, -0.03699958,  0.14356977,  0.2512716 ,\n",
            "        -0.06553385,  0.00525907, -0.18317588, -0.06336364,  0.23138654,\n",
            "        -0.09218803,  0.1926969 , -0.13146585,  0.23718673, -0.27163887]],\n",
            "      dtype=float32), array([0., 0., 0., 0., 0., 0., 0., 0., 0., 0., 0., 0., 0., 0., 0., 0., 0.,\n",
            "       0., 0., 0.], dtype=float32), array([[ 0.05923748],\n",
            "       [ 0.49214417],\n",
            "       [ 0.19968253],\n",
            "       [ 0.3036701 ],\n",
            "       [-0.12390795],\n",
            "       [ 0.2719742 ],\n",
            "       [-0.40354759],\n",
            "       [ 0.52760893],\n",
            "       [-0.51262176],\n",
            "       [-0.07487348],\n",
            "       [-0.193216  ],\n",
            "       [ 0.30150837],\n",
            "       [-0.12452769],\n",
            "       [ 0.2502758 ],\n",
            "       [-0.10211736],\n",
            "       [ 0.268345  ],\n",
            "       [ 0.08525872],\n",
            "       [-0.14434883],\n",
            "       [ 0.5164035 ],\n",
            "       [ 0.39868993]], dtype=float32), array([0.], dtype=float32)]\n",
            "Epoch 1/20\n",
            "104125/104125 [==============================] - 190s 2ms/step - loss: 0.8272 - accuracy: 0.7739\n",
            "Epoch 2/20\n",
            "104125/104125 [==============================] - 185s 2ms/step - loss: 0.5204 - accuracy: 0.7855\n",
            "Epoch 3/20\n",
            "104125/104125 [==============================] - 194s 2ms/step - loss: 0.5216 - accuracy: 0.7845\n",
            "Epoch 4/20\n",
            "104125/104125 [==============================] - 194s 2ms/step - loss: 0.5250 - accuracy: 0.7818\n",
            "Epoch 5/20\n",
            "104125/104125 [==============================] - 190s 2ms/step - loss: 0.5205 - accuracy: 0.7852\n",
            "Epoch 6/20\n",
            "104125/104125 [==============================] - 190s 2ms/step - loss: 0.5201 - accuracy: 0.7855\n",
            "Epoch 7/20\n",
            "104125/104125 [==============================] - 198s 2ms/step - loss: 0.5206 - accuracy: 0.7853\n",
            "Epoch 8/20\n",
            "104125/104125 [==============================] - 199s 2ms/step - loss: 0.5231 - accuracy: 0.7833\n",
            "Epoch 9/20\n",
            "104125/104125 [==============================] - 198s 2ms/step - loss: 0.5218 - accuracy: 0.7843\n",
            "Epoch 10/20\n",
            "104125/104125 [==============================] - 204s 2ms/step - loss: 0.5230 - accuracy: 0.7833\n",
            "Epoch 11/20\n",
            "104125/104125 [==============================] - 192s 2ms/step - loss: 0.5216 - accuracy: 0.7843\n",
            "Epoch 12/20\n",
            "104125/104125 [==============================] - 198s 2ms/step - loss: 0.5206 - accuracy: 0.7850\n",
            "Epoch 13/20\n",
            "104125/104125 [==============================] - 205s 2ms/step - loss: 0.5224 - accuracy: 0.7836\n",
            "Epoch 14/20\n",
            "104125/104125 [==============================] - 196s 2ms/step - loss: 0.5212 - accuracy: 0.7846\n",
            "Epoch 15/20\n",
            "104125/104125 [==============================] - 196s 2ms/step - loss: 0.5221 - accuracy: 0.7838\n",
            "Epoch 16/20\n",
            "104125/104125 [==============================] - 203s 2ms/step - loss: 0.5228 - accuracy: 0.7833\n",
            "Epoch 17/20\n",
            "104125/104125 [==============================] - 197s 2ms/step - loss: 0.5225 - accuracy: 0.7836\n",
            "Epoch 18/20\n",
            "104125/104125 [==============================] - 203s 2ms/step - loss: 0.5220 - accuracy: 0.7840\n",
            "Epoch 19/20\n",
            "104125/104125 [==============================] - 197s 2ms/step - loss: 0.5224 - accuracy: 0.7836\n",
            "Epoch 20/20\n",
            "104125/104125 [==============================] - 197s 2ms/step - loss: 0.5222 - accuracy: 0.7837\n",
            "CPU times: user 1h 7min 44s, sys: 6min 19s, total: 1h 14min 3s\n",
            "Wall time: 1h 5min 26s\n"
          ],
          "name": "stdout"
        }
      ]
    },
    {
      "cell_type": "code",
      "metadata": {
        "colab": {
          "base_uri": "https://localhost:8080/"
        },
        "id": "X7LzBypMph8R",
        "outputId": "8ba1760f-16a0-43be-edef-304171ee4ec3"
      },
      "source": [
        "%time nn_y_pred = nn_model.predict_classes(KNN_imputed_testX_df)\n",
        "pickle.dump(nn_y_pred, open(\"nn_y_pred.pkl\", \"wb\"))  \n",
        "nn_y_pred = pickle.load(open(\"nn_y_pred.pkl\", \"rb\"))\n",
        "nn_y_pred = nn_y_pred.flatten()"
      ],
      "execution_count": null,
      "outputs": [
        {
          "output_type": "stream",
          "text": [
            "CPU times: user 963 ms, sys: 90 ms, total: 1.05 s\n",
            "Wall time: 914 ms\n"
          ],
          "name": "stdout"
        }
      ]
    },
    {
      "cell_type": "code",
      "metadata": {
        "colab": {
          "base_uri": "https://localhost:8080/",
          "height": 282
        },
        "id": "_CJZMeWiGtxe",
        "outputId": "48a14a70-8e61-4ab8-ce0c-bda36d14c724"
      },
      "source": [
        "sns.countplot(nn_y_pred)"
      ],
      "execution_count": null,
      "outputs": [
        {
          "output_type": "execute_result",
          "data": {
            "text/plain": [
              "<matplotlib.axes._subplots.AxesSubplot at 0x7f10975b1990>"
            ]
          },
          "metadata": {
            "tags": []
          },
          "execution_count": 21
        },
        {
          "output_type": "display_data",
          "data": {
            "image/png": "[encoded data removed]",
            "text/plain": [
              "<Figure size 432x288 with 1 Axes>"
            ]
          },
          "metadata": {
            "tags": [],
            "needs_background": "light"
          }
        }
      ]
    },
    {
      "cell_type": "code",
      "metadata": {
        "id": "jqDtP9mrbWs1",
        "colab": {
          "base_uri": "https://localhost:8080/"
        },
        "outputId": "7f3760d1-122f-407f-8b94-851c24a2115d"
      },
      "source": [
        "nn_scores = nn_model.evaluate(scaled_test_df, test_y, verbose=0)\n",
        "print('Accuracy on test data: {}'.format(nn_scores[1]))  "
      ],
      "execution_count": null,
      "outputs": [
        {
          "output_type": "stream",
          "text": [
            "Accuracy on test data: 0.7743162512779236\n"
          ],
          "name": "stdout"
        }
      ]
    },
    {
      "cell_type": "code",
      "metadata": {
        "colab": {
          "base_uri": "https://localhost:8080/",
          "height": 308
        },
        "id": "OHNv-ZXkH3v8",
        "outputId": "3bcb1331-ac2b-42b9-954b-9bf4fe8764ae"
      },
      "source": [
        "#show confusion matrix\n",
        "cm = confusion_matrix(test_y, nn_y_pred)\n",
        "plt.figure(figsize=(5,5))\n",
        "sns.heatmap(cm, annot=True, fmt=\".3f\", linewidths=.5, square = True, cmap = 'Blues_r');\n",
        "plt.ylabel('Actual label');\n",
        "plt.xlabel('Predicted label');\n",
        "all_sample_title = 'Accuracy Score: {0:.4f}'.format(nn_scores[1])\n",
        "plt.title(all_sample_title, size = 15);"
      ],
      "execution_count": null,
      "outputs": [
        {
          "output_type": "display_data",
          "data": {
            "image/png": "[encoded data removed]",
            "text/plain": [
              "<Figure size 360x360 with 2 Axes>"
            ]
          },
          "metadata": {
            "tags": [],
            "needs_background": "light"
          }
        }
      ]
    },
    {
      "cell_type": "code",
      "metadata": {
        "colab": {
          "base_uri": "https://localhost:8080/"
        },
        "id": "PdrcYpGQ_eaU",
        "outputId": "02b233ab-f876-47f0-e864-fa074aa5035b"
      },
      "source": [
        "print(classification_report(test_y, nn_y_pred))"
      ],
      "execution_count": null,
      "outputs": [
        {
          "output_type": "stream",
          "text": [
            "              precision    recall  f1-score   support\n",
            "\n",
            "           0       0.76      0.45      0.57     20388\n",
            "           1       0.20      0.48      0.28      5644\n",
            "\n",
            "    accuracy                           0.46     26032\n",
            "   macro avg       0.48      0.47      0.42     26032\n",
            "weighted avg       0.64      0.46      0.50     26032\n",
            "\n"
          ],
          "name": "stdout"
        }
      ]
    },
    {
      "cell_type": "markdown",
      "metadata": {
        "id": "e3UHH-8p3tUr"
      },
      "source": [
        "### on important features"
      ]
    },
    {
      "cell_type": "code",
      "metadata": {
        "colab": {
          "base_uri": "https://localhost:8080/"
        },
        "id": "_s6lcZiz3t6z",
        "outputId": "89559626-f897-4c79-91dc-33856294e67b"
      },
      "source": [
        "# Initialize the constructor\n",
        "nn_model_imp = Sequential()\n",
        "\n",
        "# Add an input layer \n",
        "nn_model_imp.add(Dense(66, activation='relu', input_dim=66))\n",
        "\n",
        "# Add two hidden layers \n",
        "nn_model_imp.add(Dense(20, activation='relu'))\n",
        "\n",
        "# Add an output layer \n",
        "nn_model_imp.add(Dense(1, activation='sigmoid'))\n",
        "\n",
        "nn_model_imp = keras_nn(nn_model_imp, trainX_imp_features, train_y, \n",
        "                                        testX_imp_features, test_y, epochs=20)"
      ],
      "execution_count": null,
      "outputs": [
        {
          "output_type": "stream",
          "text": [
            "Model output shape (None, 1)\n",
            "Model: \"sequential\"\n",
            "_________________________________________________________________\n",
            "Layer (type)                 Output Shape              Param #   \n",
            "=================================================================\n",
            "dense (Dense)                (None, 66)                4422      \n",
            "_________________________________________________________________\n",
            "dense_1 (Dense)              (None, 20)                1340      \n",
            "_________________________________________________________________\n",
            "dense_2 (Dense)              (None, 1)                 21        \n",
            "=================================================================\n",
            "Total params: 5,783\n",
            "Trainable params: 5,783\n",
            "Non-trainable params: 0\n",
            "_________________________________________________________________\n",
            "Model summary None\n",
            "Model configuration {'name': 'sequential', 'layers': [{'class_name': 'InputLayer', 'config': {'batch_input_shape': (None, 66), 'dtype': 'float32', 'sparse': False, 'ragged': False, 'name': 'dense_input'}}, {'class_name': 'Dense', 'config': {'name': 'dense', 'trainable': True, 'batch_input_shape': (None, 66), 'dtype': 'float32', 'units': 66, 'activation': 'relu', 'use_bias': True, 'kernel_initializer': {'class_name': 'GlorotUniform', 'config': {'seed': None}}, 'bias_initializer': {'class_name': 'Zeros', 'config': {}}, 'kernel_regularizer': None, 'bias_regularizer': None, 'activity_regularizer': None, 'kernel_constraint': None, 'bias_constraint': None}}, {'class_name': 'Dense', 'config': {'name': 'dense_1', 'trainable': True, 'dtype': 'float32', 'units': 20, 'activation': 'relu', 'use_bias': True, 'kernel_initializer': {'class_name': 'GlorotUniform', 'config': {'seed': None}}, 'bias_initializer': {'class_name': 'Zeros', 'config': {}}, 'kernel_regularizer': None, 'bias_regularizer': None, 'activity_regularizer': None, 'kernel_constraint': None, 'bias_constraint': None}}, {'class_name': 'Dense', 'config': {'name': 'dense_2', 'trainable': True, 'dtype': 'float32', 'units': 1, 'activation': 'sigmoid', 'use_bias': True, 'kernel_initializer': {'class_name': 'GlorotUniform', 'config': {'seed': None}}, 'bias_initializer': {'class_name': 'Zeros', 'config': {}}, 'kernel_regularizer': None, 'bias_regularizer': None, 'activity_regularizer': None, 'kernel_constraint': None, 'bias_constraint': None}}]}\n",
            "Model weights [array([[-0.10079876, -0.09207794, -0.16032243, ...,  0.10896787,\n",
            "        -0.09265975,  0.15331706],\n",
            "       [ 0.18546057, -0.0746886 , -0.10562517, ...,  0.02679928,\n",
            "        -0.06811483,  0.1895299 ],\n",
            "       [-0.10105032, -0.15816125,  0.09433126, ..., -0.17443547,\n",
            "        -0.11026614, -0.16079241],\n",
            "       ...,\n",
            "       [ 0.13808274, -0.20723169,  0.04175976, ..., -0.102089  ,\n",
            "        -0.10439048,  0.10296151],\n",
            "       [ 0.10881528, -0.1012815 , -0.20364347, ..., -0.10992684,\n",
            "         0.19888753, -0.13240859],\n",
            "       [-0.1955958 , -0.04660203,  0.13068348, ...,  0.1300509 ,\n",
            "        -0.19171084, -0.04227865]], dtype=float32), array([0., 0., 0., 0., 0., 0., 0., 0., 0., 0., 0., 0., 0., 0., 0., 0., 0.,\n",
            "       0., 0., 0., 0., 0., 0., 0., 0., 0., 0., 0., 0., 0., 0., 0., 0., 0.,\n",
            "       0., 0., 0., 0., 0., 0., 0., 0., 0., 0., 0., 0., 0., 0., 0., 0., 0.,\n",
            "       0., 0., 0., 0., 0., 0., 0., 0., 0., 0., 0., 0., 0., 0., 0.],\n",
            "      dtype=float32), array([[-0.04292239, -0.09895721,  0.24627987, ..., -0.23647147,\n",
            "         0.06855419, -0.00461695],\n",
            "       [ 0.24417827, -0.1902211 ,  0.12798333, ...,  0.20616996,\n",
            "        -0.10902958,  0.02307874],\n",
            "       [ 0.09583819, -0.14542024,  0.1069819 , ..., -0.06234601,\n",
            "         0.00813475, -0.07071285],\n",
            "       ...,\n",
            "       [ 0.09887207, -0.15891717, -0.01973736, ..., -0.19968684,\n",
            "         0.14096534, -0.07698809],\n",
            "       [ 0.09289703,  0.14770925, -0.2631693 , ...,  0.02628183,\n",
            "         0.06800586, -0.15966916],\n",
            "       [-0.10039158, -0.13447082, -0.10691848, ..., -0.0596519 ,\n",
            "        -0.03497404,  0.18399316]], dtype=float32), array([0., 0., 0., 0., 0., 0., 0., 0., 0., 0., 0., 0., 0., 0., 0., 0., 0.,\n",
            "       0., 0., 0.], dtype=float32), array([[-0.43599218],\n",
            "       [ 0.19053477],\n",
            "       [-0.49128804],\n",
            "       [ 0.16095811],\n",
            "       [-0.28868634],\n",
            "       [-0.05506253],\n",
            "       [-0.4223812 ],\n",
            "       [-0.36537713],\n",
            "       [-0.34138587],\n",
            "       [-0.18235785],\n",
            "       [-0.35757318],\n",
            "       [ 0.03465658],\n",
            "       [ 0.00418895],\n",
            "       [-0.43011922],\n",
            "       [-0.44151938],\n",
            "       [-0.3099743 ],\n",
            "       [-0.25301763],\n",
            "       [-0.1209929 ],\n",
            "       [-0.08029082],\n",
            "       [-0.15671486]], dtype=float32), array([0.], dtype=float32)]\n",
            "Epoch 1/20\n",
            "104125/104125 [==============================] - 164s 2ms/step - loss: 1.0274 - accuracy: 0.7719\n",
            "Epoch 2/20\n",
            "104125/104125 [==============================] - 171s 2ms/step - loss: 0.4339 - accuracy: 0.8027\n",
            "Epoch 3/20\n",
            "104125/104125 [==============================] - 164s 2ms/step - loss: 0.4229 - accuracy: 0.8058\n",
            "Epoch 4/20\n",
            "104125/104125 [==============================] - 169s 2ms/step - loss: 0.4152 - accuracy: 0.8076\n",
            "Epoch 5/20\n",
            "104125/104125 [==============================] - 166s 2ms/step - loss: 0.4144 - accuracy: 0.8073\n",
            "Epoch 6/20\n",
            "104125/104125 [==============================] - 161s 2ms/step - loss: 0.4136 - accuracy: 0.8080\n",
            "Epoch 7/20\n",
            "104125/104125 [==============================] - 164s 2ms/step - loss: 0.4142 - accuracy: 0.8086\n",
            "Epoch 8/20\n",
            "104125/104125 [==============================] - 167s 2ms/step - loss: 0.4117 - accuracy: 0.8081\n",
            "Epoch 9/20\n",
            "104125/104125 [==============================] - 164s 2ms/step - loss: 0.4137 - accuracy: 0.8090\n",
            "Epoch 10/20\n",
            "104125/104125 [==============================] - 168s 2ms/step - loss: 0.4109 - accuracy: 0.8080\n",
            "Epoch 11/20\n",
            "104125/104125 [==============================] - 166s 2ms/step - loss: 0.4110 - accuracy: 0.8101\n",
            "Epoch 12/20\n",
            "104125/104125 [==============================] - 168s 2ms/step - loss: 0.4127 - accuracy: 0.8075\n",
            "Epoch 13/20\n",
            "104125/104125 [==============================] - 165s 2ms/step - loss: 0.4087 - accuracy: 0.8106\n",
            "Epoch 14/20\n",
            "104125/104125 [==============================] - 164s 2ms/step - loss: 0.4118 - accuracy: 0.8087\n",
            "Epoch 15/20\n",
            "104125/104125 [==============================] - 166s 2ms/step - loss: 0.4076 - accuracy: 0.8118\n",
            "Epoch 16/20\n",
            "104125/104125 [==============================] - 162s 2ms/step - loss: 0.4111 - accuracy: 0.8088\n",
            "Epoch 17/20\n",
            "104125/104125 [==============================] - 158s 2ms/step - loss: 0.4091 - accuracy: 0.8093\n",
            "Epoch 18/20\n",
            "104125/104125 [==============================] - 163s 2ms/step - loss: 0.4084 - accuracy: 0.8114\n",
            "Epoch 19/20\n",
            "104125/104125 [==============================] - 166s 2ms/step - loss: 0.4113 - accuracy: 0.8100\n",
            "Epoch 20/20\n",
            "104125/104125 [==============================] - 166s 2ms/step - loss: 0.4084 - accuracy: 0.8106\n",
            "CPU times: user 57min 1s, sys: 5min 32s, total: 1h 2min 33s\n",
            "Wall time: 55min 1s\n"
          ],
          "name": "stdout"
        }
      ]
    },
    {
      "cell_type": "code",
      "metadata": {
        "colab": {
          "base_uri": "https://localhost:8080/"
        },
        "id": "ppBh4JzN3t62",
        "outputId": "be455501-93bb-4eeb-dacf-47e1a09ec308"
      },
      "source": [
        "%time nn_y_pred_imp = nn_model_imp.predict_classes(testX_imp_features)\n",
        "pickle.dump(nn_y_pred_imp, open(\"nn_y_pred_imp.pkl\", \"wb\"))  \n",
        "nn_y_pred_imp = pickle.load(open(\"nn_y_pred_imp.pkl\", \"rb\"))\n",
        "nn_y_pred_imp = nn_y_pred_imp.flatten()"
      ],
      "execution_count": null,
      "outputs": [
        {
          "output_type": "stream",
          "text": [
            "CPU times: user 700 ms, sys: 89.3 ms, total: 789 ms\n",
            "Wall time: 692 ms\n"
          ],
          "name": "stdout"
        }
      ]
    },
    {
      "cell_type": "code",
      "metadata": {
        "colab": {
          "base_uri": "https://localhost:8080/",
          "height": 282
        },
        "id": "JqwcLQN1pzG-",
        "outputId": "f646c695-4b4c-405a-bc34-919885fb20fc"
      },
      "source": [
        "sns.countplot(nn_y_pred_imp)"
      ],
      "execution_count": null,
      "outputs": [
        {
          "output_type": "execute_result",
          "data": {
            "text/plain": [
              "<matplotlib.axes._subplots.AxesSubplot at 0x7f10a407f2d0>"
            ]
          },
          "metadata": {
            "tags": []
          },
          "execution_count": 12
        },
        {
          "output_type": "display_data",
          "data": {
            "image/png": "[encoded data removed]",
            "text/plain": [
              "<Figure size 432x288 with 1 Axes>"
            ]
          },
          "metadata": {
            "tags": [],
            "needs_background": "light"
          }
        }
      ]
    },
    {
      "cell_type": "code",
      "metadata": {
        "colab": {
          "base_uri": "https://localhost:8080/"
        },
        "id": "L-ZQ0KXopqYm",
        "outputId": "cc45d430-2c0a-4190-ec0b-26eb739a4c82"
      },
      "source": [
        "nn_scores_imp = nn_model_imp.evaluate(testX_imp_features, test_y, verbose=0)\n",
        "print('Accuracy on test data: {}'.format(nn_scores_imp[1]))  "
      ],
      "execution_count": null,
      "outputs": [
        {
          "output_type": "stream",
          "text": [
            "Accuracy on test data: 0.8122695088386536\n"
          ],
          "name": "stdout"
        }
      ]
    },
    {
      "cell_type": "code",
      "metadata": {
        "colab": {
          "base_uri": "https://localhost:8080/",
          "height": 327
        },
        "id": "VbS5EqtZp2ci",
        "outputId": "bb6043a7-9aca-4f9c-f3c0-84fef1dbe361"
      },
      "source": [
        "#show confusion matrix\n",
        "cm = confusion_matrix(test_y, nn_y_pred_imp)\n",
        "plt.figure(figsize=(5,5))\n",
        "sns.heatmap(cm, annot=True, fmt=\".3f\", linewidths=.5, square = True, cmap = 'Blues_r');\n",
        "plt.ylabel('Actual label');\n",
        "plt.xlabel('Predicted label');\n",
        "all_sample_title = 'Accuracy Score: {0:.4f}'.format(nn_scores_imp[1])\n",
        "plt.title(all_sample_title, size = 15)"
      ],
      "execution_count": null,
      "outputs": [
        {
          "output_type": "execute_result",
          "data": {
            "text/plain": [
              "Text(0.5, 1.0, 'Accuracy Score: 0.8123')"
            ]
          },
          "metadata": {
            "tags": []
          },
          "execution_count": 15
        },
        {
          "output_type": "display_data",
          "data": {
            "image/png": "[encoded data removed]",
            "text/plain": [
              "<Figure size 360x360 with 2 Axes>"
            ]
          },
          "metadata": {
            "tags": [],
            "needs_background": "light"
          }
        }
      ]
    },
    {
      "cell_type": "code",
      "metadata": {
        "colab": {
          "base_uri": "https://localhost:8080/"
        },
        "id": "z3NwgqEz3t64",
        "outputId": "f7a7096f-5657-48b8-b90d-84592f6de0b9"
      },
      "source": [
        "print(classification_report(test_y, nn_y_pred_imp))"
      ],
      "execution_count": null,
      "outputs": [
        {
          "output_type": "stream",
          "text": [
            "              precision    recall  f1-score   support\n",
            "\n",
            "           0       0.87      0.89      0.88     20388\n",
            "           1       0.57      0.52      0.55      5644\n",
            "\n",
            "    accuracy                           0.81     26032\n",
            "   macro avg       0.72      0.71      0.71     26032\n",
            "weighted avg       0.81      0.81      0.81     26032\n",
            "\n"
          ],
          "name": "stdout"
        }
      ]
    },
    {
      "cell_type": "markdown",
      "metadata": {
        "id": "jGID_-6mGZcL"
      },
      "source": [
        "#Logistic Regression"
      ]
    },
    {
      "cell_type": "code",
      "metadata": {
        "id": "rYAV6fYxGj0Y",
        "colab": {
          "base_uri": "https://localhost:8080/",
          "height": 299
        },
        "outputId": "f628cf9d-126b-4437-988d-b5da9b5c7838"
      },
      "source": [
        "# Apply logistic regression\n",
        "clf = LogisticRegression(random_state=0, max_iter=200).fit(scaled_df, train_y)\n",
        "pred = clf.predict(scaled_test_df)\n",
        "score = clf.score(scaled_test_df,test_y)\n",
        "print('Accuracy on test data: {}'.format(score))  \n",
        "sns.countplot(pred)\n"
      ],
      "execution_count": null,
      "outputs": [
        {
          "output_type": "stream",
          "text": [
            "Accuracy on test data: 0.7377842655193608\n"
          ],
          "name": "stdout"
        },
        {
          "output_type": "execute_result",
          "data": {
            "text/plain": [
              "<matplotlib.axes._subplots.AxesSubplot at 0x7fbd6889bad0>"
            ]
          },
          "metadata": {
            "tags": []
          },
          "execution_count": 6
        },
        {
          "output_type": "display_data",
          "data": {
            "image/png": "[encoded data removed]",
            "text/plain": [
              "<Figure size 432x288 with 1 Axes>"
            ]
          },
          "metadata": {
            "tags": [],
            "needs_background": "light"
          }
        }
      ]
    },
    {
      "cell_type": "code",
      "metadata": {
        "id": "OGl_hZQ_Gkv0",
        "colab": {
          "base_uri": "https://localhost:8080/",
          "height": 309
        },
        "outputId": "4826bd68-94a6-44bb-92c8-17f660893eda"
      },
      "source": [
        "#show confusion matrix\n",
        "cm = confusion_matrix(test_y, pred)\n",
        "plt.figure(figsize=(5,5))\n",
        "sns.heatmap(cm, annot=True, fmt=\".3f\", linewidths=.5, square = True, cmap = 'Blues_r');\n",
        "plt.ylabel('Actual label');\n",
        "plt.xlabel('Predicted label');\n",
        "all_sample_title = 'Accuracy Score: {0:.4f}'.format(score)\n",
        "plt.title(all_sample_title, size = 15);"
      ],
      "execution_count": null,
      "outputs": [
        {
          "output_type": "display_data",
          "data": {
            "image/png": "[encoded data removed]",
            "text/plain": [
              "<Figure size 360x360 with 2 Axes>"
            ]
          },
          "metadata": {
            "tags": [],
            "needs_background": "light"
          }
        }
      ]
    },
    {
      "cell_type": "code",
      "metadata": {
        "id": "DdJ9s6E0ILQ7",
        "colab": {
          "base_uri": "https://localhost:8080/"
        },
        "outputId": "0813eaf2-911c-4854-9612-29fdf7835cb4"
      },
      "source": [
        "print(classification_report(test_y, pred))"
      ],
      "execution_count": null,
      "outputs": [
        {
          "output_type": "stream",
          "text": [
            "              precision    recall  f1-score   support\n",
            "\n",
            "           0       0.79      0.90      0.84     20388\n",
            "           1       0.29      0.14      0.19      5644\n",
            "\n",
            "    accuracy                           0.74     26032\n",
            "   macro avg       0.54      0.52      0.52     26032\n",
            "weighted avg       0.68      0.74      0.70     26032\n",
            "\n"
          ],
          "name": "stdout"
        }
      ]
    },
    {
      "cell_type": "code",
      "metadata": {
        "id": "QSSW5Y2qGy8U",
        "colab": {
          "base_uri": "https://localhost:8080/"
        },
        "outputId": "d9b3fdbf-c01d-4102-9b8b-f84e00b5d834"
      },
      "source": [
        "# Hyperparameter tuning\n",
        "model = LogisticRegression()\n",
        "solvers = ['newton-cg', 'lbfgs', 'liblinear']\n",
        "penalty = ['l2']\n",
        "c_values = [100, 10, 1.0, 0.1, 0.01]\n",
        "max_iter = [200,300]\n",
        "# define grid search\n",
        "grid = dict(solver=solvers,penalty=penalty,C=c_values, max_iter = max_iter)\n",
        "cv = RepeatedStratifiedKFold(n_splits=5, n_repeats=2, random_state=1)\n",
        "grid_search = RandomizedSearchCV(estimator=model, param_distributions=grid, n_jobs=-1, cv=cv, scoring='accuracy',error_score=0)\n",
        "grid_result = grid_search.fit(scaled_df, train_y)\n",
        "# summarize results\n",
        "print(\"Best: %f using %s\" % (grid_result.best_score_, grid_result.best_params_))\n",
        "means = grid_result.cv_results_['mean_test_score']\n",
        "stds = grid_result.cv_results_['std_test_score']\n",
        "params = grid_result.cv_results_['params']\n",
        "for mean, stdev, param in zip(means, stds, params):\n",
        "    print(\"%f (%f) with: %r\" % (mean, stdev, param))"
      ],
      "execution_count": null,
      "outputs": [
        {
          "output_type": "stream",
          "text": [
            "Best: 0.811803 using {'solver': 'lbfgs', 'penalty': 'l2', 'max_iter': 200, 'C': 10}\n",
            "0.811693 (0.001834) with: {'solver': 'lbfgs', 'penalty': 'l2', 'max_iter': 200, 'C': 0.01}\n",
            "0.811798 (0.001823) with: {'solver': 'newton-cg', 'penalty': 'l2', 'max_iter': 300, 'C': 1.0}\n",
            "0.811717 (0.001738) with: {'solver': 'liblinear', 'penalty': 'l2', 'max_iter': 200, 'C': 0.01}\n",
            "0.811693 (0.001834) with: {'solver': 'lbfgs', 'penalty': 'l2', 'max_iter': 300, 'C': 0.01}\n",
            "0.811794 (0.001823) with: {'solver': 'liblinear', 'penalty': 'l2', 'max_iter': 300, 'C': 100}\n",
            "0.811789 (0.001818) with: {'solver': 'newton-cg', 'penalty': 'l2', 'max_iter': 200, 'C': 10}\n",
            "0.811717 (0.001852) with: {'solver': 'newton-cg', 'penalty': 'l2', 'max_iter': 200, 'C': 0.1}\n",
            "0.811803 (0.001823) with: {'solver': 'lbfgs', 'penalty': 'l2', 'max_iter': 200, 'C': 10}\n",
            "0.811794 (0.001823) with: {'solver': 'liblinear', 'penalty': 'l2', 'max_iter': 200, 'C': 100}\n",
            "0.811803 (0.001811) with: {'solver': 'liblinear', 'penalty': 'l2', 'max_iter': 300, 'C': 1.0}\n"
          ],
          "name": "stdout"
        }
      ]
    },
    {
      "cell_type": "markdown",
      "metadata": {
        "id": "Okw3izq0OTlG"
      },
      "source": [
        "## Logistic Regression on PCA data"
      ]
    },
    {
      "cell_type": "code",
      "metadata": {
        "id": "PDNGuMT-K7yX",
        "colab": {
          "base_uri": "https://localhost:8080/"
        },
        "outputId": "e2e5d945-5275-486e-c4d4-aa02cfef80c0"
      },
      "source": [
        "lgreg_pca = LogisticRegression(max_iter=200)\n",
        "scaler = StandardScaler()\n",
        "pca_97per_train_scaled = scaler.fit_transform(pca_97per_train)\n",
        "pca_97per_test_scaled = scaler.fit_transform(pca_97per_test)\n",
        "%time lgreg_pca.fit(pca_97per_train_scaled, train_y)"
      ],
      "execution_count": null,
      "outputs": [
        {
          "output_type": "stream",
          "text": [
            "CPU times: user 376 ms, sys: 121 ms, total: 498 ms\n",
            "Wall time: 278 ms\n"
          ],
          "name": "stdout"
        },
        {
          "output_type": "execute_result",
          "data": {
            "text/plain": [
              "LogisticRegression(C=1.0, class_weight=None, dual=False, fit_intercept=True,\n",
              "                   intercept_scaling=1, l1_ratio=None, max_iter=200,\n",
              "                   multi_class='auto', n_jobs=None, penalty='l2',\n",
              "                   random_state=None, solver='lbfgs', tol=0.0001, verbose=0,\n",
              "                   warm_start=False)"
            ]
          },
          "metadata": {
            "tags": []
          },
          "execution_count": 25
        }
      ]
    },
    {
      "cell_type": "code",
      "metadata": {
        "id": "xiIdQe6MNjrU",
        "colab": {
          "base_uri": "https://localhost:8080/"
        },
        "outputId": "ae94bfe3-730d-408b-b2e7-dd51bd9b8497"
      },
      "source": [
        "# predict the results\n",
        "lgreg_pca_y_pred=lgreg_pca.predict(pca_97per_test_scaled)\n",
        "lgreg_pca_accuracy=accuracy_score(lgreg_pca_y_pred, test_y)\n",
        "print('Logistic Regression Model accuracy score: {0:0.4f}'.format(lgreg_pca_accuracy))"
      ],
      "execution_count": null,
      "outputs": [
        {
          "output_type": "stream",
          "text": [
            "Logistic Regression Model accuracy score: 0.8049\n"
          ],
          "name": "stdout"
        }
      ]
    },
    {
      "cell_type": "code",
      "metadata": {
        "id": "yp1A0ji5NpLd",
        "colab": {
          "base_uri": "https://localhost:8080/",
          "height": 282
        },
        "outputId": "396288b9-7d2d-46d5-b028-45125d1eb610"
      },
      "source": [
        "sns.countplot(lgreg_pca_y_pred)\n"
      ],
      "execution_count": null,
      "outputs": [
        {
          "output_type": "execute_result",
          "data": {
            "text/plain": [
              "<matplotlib.axes._subplots.AxesSubplot at 0x7fbd5f5e8290>"
            ]
          },
          "metadata": {
            "tags": []
          },
          "execution_count": 30
        },
        {
          "output_type": "display_data",
          "data": {
            "image/png": "[encoded data removed]",
            "text/plain": [
              "<Figure size 432x288 with 1 Axes>"
            ]
          },
          "metadata": {
            "tags": [],
            "needs_background": "light"
          }
        }
      ]
    },
    {
      "cell_type": "code",
      "metadata": {
        "id": "z5wHbcEDNt-W",
        "colab": {
          "base_uri": "https://localhost:8080/",
          "height": 309
        },
        "outputId": "286224a8-f648-4a67-f152-ffa8d3ade6c7"
      },
      "source": [
        "#show confusion matrix\n",
        "cm = confusion_matrix(test_y, lgreg_pca_y_pred)\n",
        "plt.figure(figsize=(5,5))\n",
        "sns.heatmap(cm, annot=True, fmt=\".3f\", linewidths=.5, square = True, cmap = 'Blues_r');\n",
        "plt.ylabel('Actual label');\n",
        "plt.xlabel('Predicted label');\n",
        "all_sample_title = 'Accuracy Score: {0:.4f}'.format(lgreg_pca_accuracy)\n",
        "plt.title(all_sample_title, size = 15);"
      ],
      "execution_count": null,
      "outputs": [
        {
          "output_type": "display_data",
          "data": {
            "image/png": "[encoded data removed]",
            "text/plain": [
              "<Figure size 360x360 with 2 Axes>"
            ]
          },
          "metadata": {
            "tags": [],
            "needs_background": "light"
          }
        }
      ]
    }
  ]
}